{
  "nbformat": 4,
  "nbformat_minor": 0,
  "metadata": {
    "colab": {
      "provenance": [],
      "authorship_tag": "ABX9TyPT6BtJvAzoWyaT2X35GDRl",
      "include_colab_link": true
    },
    "kernelspec": {
      "name": "python3",
      "display_name": "Python 3"
    },
    "language_info": {
      "name": "python"
    }
  },
  "cells": [
    {
      "cell_type": "markdown",
      "metadata": {
        "id": "view-in-github",
        "colab_type": "text"
      },
      "source": [
        "<a href=\"https://colab.research.google.com/github/zeusunderthehood/mkrad_bot/blob/main/Mkrad_Botv0_3ipynb.ipynb\" target=\"_parent\"><img src=\"https://colab.research.google.com/assets/colab-badge.svg\" alt=\"Open In Colab\"/></a>"
      ]
    },
    {
      "cell_type": "code",
      "execution_count": 1,
      "metadata": {
        "colab": {
          "base_uri": "https://localhost:8080/"
        },
        "collapsed": true,
        "id": "znAIXVwO3RED",
        "outputId": "e01e8fe1-1c0a-4fab-fe77-3167d3ca8198"
      },
      "outputs": [
        {
          "output_type": "stream",
          "name": "stdout",
          "text": [
            "Collecting langgraph\n",
            "  Downloading langgraph-0.4.3-py3-none-any.whl.metadata (7.9 kB)\n",
            "Collecting langchain_groq\n",
            "  Downloading langchain_groq-0.3.2-py3-none-any.whl.metadata (2.6 kB)\n",
            "Requirement already satisfied: langchain in /usr/local/lib/python3.11/dist-packages (0.3.25)\n",
            "Requirement already satisfied: langchain_core in /usr/local/lib/python3.11/dist-packages (0.3.59)\n",
            "Collecting langchain_community\n",
            "  Downloading langchain_community-0.3.24-py3-none-any.whl.metadata (2.5 kB)\n",
            "Requirement already satisfied: flask in /usr/local/lib/python3.11/dist-packages (3.1.0)\n",
            "Collecting mysql-connector-python\n",
            "  Downloading mysql_connector_python-9.3.0-cp311-cp311-manylinux_2_28_x86_64.whl.metadata (7.2 kB)\n",
            "Requirement already satisfied: pydantic[email] in /usr/local/lib/python3.11/dist-packages (2.11.4)\n",
            "Collecting langgraph-checkpoint<3.0.0,>=2.0.10 (from langgraph)\n",
            "  Downloading langgraph_checkpoint-2.0.25-py3-none-any.whl.metadata (4.6 kB)\n",
            "Collecting langgraph-prebuilt>=0.1.8 (from langgraph)\n",
            "  Downloading langgraph_prebuilt-0.1.8-py3-none-any.whl.metadata (5.0 kB)\n",
            "Collecting langgraph-sdk>=0.1.42 (from langgraph)\n",
            "  Downloading langgraph_sdk-0.1.69-py3-none-any.whl.metadata (1.8 kB)\n",
            "Requirement already satisfied: xxhash<4.0.0,>=3.5.0 in /usr/local/lib/python3.11/dist-packages (from langgraph) (3.5.0)\n",
            "Collecting groq<1,>=0.4.1 (from langchain_groq)\n",
            "  Downloading groq-0.24.0-py3-none-any.whl.metadata (15 kB)\n",
            "Requirement already satisfied: langchain-text-splitters<1.0.0,>=0.3.8 in /usr/local/lib/python3.11/dist-packages (from langchain) (0.3.8)\n",
            "Requirement already satisfied: langsmith<0.4,>=0.1.17 in /usr/local/lib/python3.11/dist-packages (from langchain) (0.3.42)\n",
            "Requirement already satisfied: SQLAlchemy<3,>=1.4 in /usr/local/lib/python3.11/dist-packages (from langchain) (2.0.40)\n",
            "Requirement already satisfied: requests<3,>=2 in /usr/local/lib/python3.11/dist-packages (from langchain) (2.32.3)\n",
            "Requirement already satisfied: PyYAML>=5.3 in /usr/local/lib/python3.11/dist-packages (from langchain) (6.0.2)\n",
            "Requirement already satisfied: tenacity!=8.4.0,<10.0.0,>=8.1.0 in /usr/local/lib/python3.11/dist-packages (from langchain_core) (9.1.2)\n",
            "Requirement already satisfied: jsonpatch<2.0,>=1.33 in /usr/local/lib/python3.11/dist-packages (from langchain_core) (1.33)\n",
            "Requirement already satisfied: packaging<25,>=23.2 in /usr/local/lib/python3.11/dist-packages (from langchain_core) (24.2)\n",
            "Requirement already satisfied: typing-extensions>=4.7 in /usr/local/lib/python3.11/dist-packages (from langchain_core) (4.13.2)\n",
            "Requirement already satisfied: aiohttp<4.0.0,>=3.8.3 in /usr/local/lib/python3.11/dist-packages (from langchain_community) (3.11.15)\n",
            "Collecting dataclasses-json<0.7,>=0.5.7 (from langchain_community)\n",
            "  Downloading dataclasses_json-0.6.7-py3-none-any.whl.metadata (25 kB)\n",
            "Collecting pydantic-settings<3.0.0,>=2.4.0 (from langchain_community)\n",
            "  Downloading pydantic_settings-2.9.1-py3-none-any.whl.metadata (3.8 kB)\n",
            "Collecting httpx-sse<1.0.0,>=0.4.0 (from langchain_community)\n",
            "  Downloading httpx_sse-0.4.0-py3-none-any.whl.metadata (9.0 kB)\n",
            "Requirement already satisfied: numpy>=1.26.2 in /usr/local/lib/python3.11/dist-packages (from langchain_community) (2.0.2)\n",
            "Requirement already satisfied: Werkzeug>=3.1 in /usr/local/lib/python3.11/dist-packages (from flask) (3.1.3)\n",
            "Requirement already satisfied: Jinja2>=3.1.2 in /usr/local/lib/python3.11/dist-packages (from flask) (3.1.6)\n",
            "Requirement already satisfied: itsdangerous>=2.2 in /usr/local/lib/python3.11/dist-packages (from flask) (2.2.0)\n",
            "Requirement already satisfied: click>=8.1.3 in /usr/local/lib/python3.11/dist-packages (from flask) (8.1.8)\n",
            "Requirement already satisfied: blinker>=1.9 in /usr/local/lib/python3.11/dist-packages (from flask) (1.9.0)\n",
            "Requirement already satisfied: annotated-types>=0.6.0 in /usr/local/lib/python3.11/dist-packages (from pydantic[email]) (0.7.0)\n",
            "Requirement already satisfied: pydantic-core==2.33.2 in /usr/local/lib/python3.11/dist-packages (from pydantic[email]) (2.33.2)\n",
            "Requirement already satisfied: typing-inspection>=0.4.0 in /usr/local/lib/python3.11/dist-packages (from pydantic[email]) (0.4.0)\n",
            "Collecting email-validator>=2.0.0 (from pydantic[email])\n",
            "  Downloading email_validator-2.2.0-py3-none-any.whl.metadata (25 kB)\n",
            "Requirement already satisfied: aiohappyeyeballs>=2.3.0 in /usr/local/lib/python3.11/dist-packages (from aiohttp<4.0.0,>=3.8.3->langchain_community) (2.6.1)\n",
            "Requirement already satisfied: aiosignal>=1.1.2 in /usr/local/lib/python3.11/dist-packages (from aiohttp<4.0.0,>=3.8.3->langchain_community) (1.3.2)\n",
            "Requirement already satisfied: attrs>=17.3.0 in /usr/local/lib/python3.11/dist-packages (from aiohttp<4.0.0,>=3.8.3->langchain_community) (25.3.0)\n",
            "Requirement already satisfied: frozenlist>=1.1.1 in /usr/local/lib/python3.11/dist-packages (from aiohttp<4.0.0,>=3.8.3->langchain_community) (1.6.0)\n",
            "Requirement already satisfied: multidict<7.0,>=4.5 in /usr/local/lib/python3.11/dist-packages (from aiohttp<4.0.0,>=3.8.3->langchain_community) (6.4.3)\n",
            "Requirement already satisfied: propcache>=0.2.0 in /usr/local/lib/python3.11/dist-packages (from aiohttp<4.0.0,>=3.8.3->langchain_community) (0.3.1)\n",
            "Requirement already satisfied: yarl<2.0,>=1.17.0 in /usr/local/lib/python3.11/dist-packages (from aiohttp<4.0.0,>=3.8.3->langchain_community) (1.20.0)\n",
            "Collecting marshmallow<4.0.0,>=3.18.0 (from dataclasses-json<0.7,>=0.5.7->langchain_community)\n",
            "  Downloading marshmallow-3.26.1-py3-none-any.whl.metadata (7.3 kB)\n",
            "Collecting typing-inspect<1,>=0.4.0 (from dataclasses-json<0.7,>=0.5.7->langchain_community)\n",
            "  Downloading typing_inspect-0.9.0-py3-none-any.whl.metadata (1.5 kB)\n",
            "Collecting dnspython>=2.0.0 (from email-validator>=2.0.0->pydantic[email])\n",
            "  Downloading dnspython-2.7.0-py3-none-any.whl.metadata (5.8 kB)\n",
            "Requirement already satisfied: idna>=2.0.0 in /usr/local/lib/python3.11/dist-packages (from email-validator>=2.0.0->pydantic[email]) (3.10)\n",
            "Requirement already satisfied: anyio<5,>=3.5.0 in /usr/local/lib/python3.11/dist-packages (from groq<1,>=0.4.1->langchain_groq) (4.9.0)\n",
            "Requirement already satisfied: distro<2,>=1.7.0 in /usr/local/lib/python3.11/dist-packages (from groq<1,>=0.4.1->langchain_groq) (1.9.0)\n",
            "Requirement already satisfied: httpx<1,>=0.23.0 in /usr/local/lib/python3.11/dist-packages (from groq<1,>=0.4.1->langchain_groq) (0.28.1)\n",
            "Requirement already satisfied: sniffio in /usr/local/lib/python3.11/dist-packages (from groq<1,>=0.4.1->langchain_groq) (1.3.1)\n",
            "Requirement already satisfied: MarkupSafe>=2.0 in /usr/local/lib/python3.11/dist-packages (from Jinja2>=3.1.2->flask) (3.0.2)\n",
            "Requirement already satisfied: jsonpointer>=1.9 in /usr/local/lib/python3.11/dist-packages (from jsonpatch<2.0,>=1.33->langchain_core) (3.0.0)\n",
            "Collecting ormsgpack<2.0.0,>=1.8.0 (from langgraph-checkpoint<3.0.0,>=2.0.10->langgraph)\n",
            "  Downloading ormsgpack-1.9.1-cp311-cp311-manylinux_2_17_x86_64.manylinux2014_x86_64.whl.metadata (43 kB)\n",
            "\u001b[2K     \u001b[90m━━━━━━━━━━━━━━━━━━━━━━━━━━━━━━━━━━━━━━━━\u001b[0m \u001b[32m43.5/43.5 kB\u001b[0m \u001b[31m2.1 MB/s\u001b[0m eta \u001b[36m0:00:00\u001b[0m\n",
            "\u001b[?25hRequirement already satisfied: orjson>=3.10.1 in /usr/local/lib/python3.11/dist-packages (from langgraph-sdk>=0.1.42->langgraph) (3.10.18)\n",
            "Requirement already satisfied: requests-toolbelt<2.0.0,>=1.0.0 in /usr/local/lib/python3.11/dist-packages (from langsmith<0.4,>=0.1.17->langchain) (1.0.0)\n",
            "Requirement already satisfied: zstandard<0.24.0,>=0.23.0 in /usr/local/lib/python3.11/dist-packages (from langsmith<0.4,>=0.1.17->langchain) (0.23.0)\n",
            "Collecting python-dotenv>=0.21.0 (from pydantic-settings<3.0.0,>=2.4.0->langchain_community)\n",
            "  Downloading python_dotenv-1.1.0-py3-none-any.whl.metadata (24 kB)\n",
            "Requirement already satisfied: charset-normalizer<4,>=2 in /usr/local/lib/python3.11/dist-packages (from requests<3,>=2->langchain) (3.4.2)\n",
            "Requirement already satisfied: urllib3<3,>=1.21.1 in /usr/local/lib/python3.11/dist-packages (from requests<3,>=2->langchain) (2.4.0)\n",
            "Requirement already satisfied: certifi>=2017.4.17 in /usr/local/lib/python3.11/dist-packages (from requests<3,>=2->langchain) (2025.4.26)\n",
            "Requirement already satisfied: greenlet>=1 in /usr/local/lib/python3.11/dist-packages (from SQLAlchemy<3,>=1.4->langchain) (3.2.1)\n",
            "Requirement already satisfied: httpcore==1.* in /usr/local/lib/python3.11/dist-packages (from httpx<1,>=0.23.0->groq<1,>=0.4.1->langchain_groq) (1.0.9)\n",
            "Requirement already satisfied: h11>=0.16 in /usr/local/lib/python3.11/dist-packages (from httpcore==1.*->httpx<1,>=0.23.0->groq<1,>=0.4.1->langchain_groq) (0.16.0)\n",
            "Collecting mypy-extensions>=0.3.0 (from typing-inspect<1,>=0.4.0->dataclasses-json<0.7,>=0.5.7->langchain_community)\n",
            "  Downloading mypy_extensions-1.1.0-py3-none-any.whl.metadata (1.1 kB)\n",
            "Downloading langgraph-0.4.3-py3-none-any.whl (151 kB)\n",
            "\u001b[2K   \u001b[90m━━━━━━━━━━━━━━━━━━━━━━━━━━━━━━━━━━━━━━━━\u001b[0m \u001b[32m151.2/151.2 kB\u001b[0m \u001b[31m6.6 MB/s\u001b[0m eta \u001b[36m0:00:00\u001b[0m\n",
            "\u001b[?25hDownloading langchain_groq-0.3.2-py3-none-any.whl (15 kB)\n",
            "Downloading langchain_community-0.3.24-py3-none-any.whl (2.5 MB)\n",
            "\u001b[2K   \u001b[90m━━━━━━━━━━━━━━━━━━━━━━━━━━━━━━━━━━━━━━━━\u001b[0m \u001b[32m2.5/2.5 MB\u001b[0m \u001b[31m40.3 MB/s\u001b[0m eta \u001b[36m0:00:00\u001b[0m\n",
            "\u001b[?25hDownloading mysql_connector_python-9.3.0-cp311-cp311-manylinux_2_28_x86_64.whl (33.9 MB)\n",
            "\u001b[2K   \u001b[90m━━━━━━━━━━━━━━━━━━━━━━━━━━━━━━━━━━━━━━━━\u001b[0m \u001b[32m33.9/33.9 MB\u001b[0m \u001b[31m22.7 MB/s\u001b[0m eta \u001b[36m0:00:00\u001b[0m\n",
            "\u001b[?25hDownloading dataclasses_json-0.6.7-py3-none-any.whl (28 kB)\n",
            "Downloading email_validator-2.2.0-py3-none-any.whl (33 kB)\n",
            "Downloading groq-0.24.0-py3-none-any.whl (127 kB)\n",
            "\u001b[2K   \u001b[90m━━━━━━━━━━━━━━━━━━━━━━━━━━━━━━━━━━━━━━━━\u001b[0m \u001b[32m127.5/127.5 kB\u001b[0m \u001b[31m7.7 MB/s\u001b[0m eta \u001b[36m0:00:00\u001b[0m\n",
            "\u001b[?25hDownloading httpx_sse-0.4.0-py3-none-any.whl (7.8 kB)\n",
            "Downloading langgraph_checkpoint-2.0.25-py3-none-any.whl (42 kB)\n",
            "\u001b[2K   \u001b[90m━━━━━━━━━━━━━━━━━━━━━━━━━━━━━━━━━━━━━━━━\u001b[0m \u001b[32m42.3/42.3 kB\u001b[0m \u001b[31m2.6 MB/s\u001b[0m eta \u001b[36m0:00:00\u001b[0m\n",
            "\u001b[?25hDownloading langgraph_prebuilt-0.1.8-py3-none-any.whl (25 kB)\n",
            "Downloading langgraph_sdk-0.1.69-py3-none-any.whl (48 kB)\n",
            "\u001b[2K   \u001b[90m━━━━━━━━━━━━━━━━━━━━━━━━━━━━━━━━━━━━━━━━\u001b[0m \u001b[32m48.9/48.9 kB\u001b[0m \u001b[31m3.2 MB/s\u001b[0m eta \u001b[36m0:00:00\u001b[0m\n",
            "\u001b[?25hDownloading pydantic_settings-2.9.1-py3-none-any.whl (44 kB)\n",
            "\u001b[2K   \u001b[90m━━━━━━━━━━━━━━━━━━━━━━━━━━━━━━━━━━━━━━━━\u001b[0m \u001b[32m44.4/44.4 kB\u001b[0m \u001b[31m2.9 MB/s\u001b[0m eta \u001b[36m0:00:00\u001b[0m\n",
            "\u001b[?25hDownloading dnspython-2.7.0-py3-none-any.whl (313 kB)\n",
            "\u001b[2K   \u001b[90m━━━━━━━━━━━━━━━━━━━━━━━━━━━━━━━━━━━━━━━━\u001b[0m \u001b[32m313.6/313.6 kB\u001b[0m \u001b[31m21.7 MB/s\u001b[0m eta \u001b[36m0:00:00\u001b[0m\n",
            "\u001b[?25hDownloading marshmallow-3.26.1-py3-none-any.whl (50 kB)\n",
            "\u001b[2K   \u001b[90m━━━━━━━━━━━━━━━━━━━━━━━━━━━━━━━━━━━━━━━━\u001b[0m \u001b[32m50.9/50.9 kB\u001b[0m \u001b[31m3.0 MB/s\u001b[0m eta \u001b[36m0:00:00\u001b[0m\n",
            "\u001b[?25hDownloading ormsgpack-1.9.1-cp311-cp311-manylinux_2_17_x86_64.manylinux2014_x86_64.whl (223 kB)\n",
            "\u001b[2K   \u001b[90m━━━━━━━━━━━━━━━━━━━━━━━━━━━━━━━━━━━━━━━━\u001b[0m \u001b[32m223.6/223.6 kB\u001b[0m \u001b[31m15.1 MB/s\u001b[0m eta \u001b[36m0:00:00\u001b[0m\n",
            "\u001b[?25hDownloading python_dotenv-1.1.0-py3-none-any.whl (20 kB)\n",
            "Downloading typing_inspect-0.9.0-py3-none-any.whl (8.8 kB)\n",
            "Downloading mypy_extensions-1.1.0-py3-none-any.whl (5.0 kB)\n",
            "Installing collected packages: python-dotenv, ormsgpack, mysql-connector-python, mypy-extensions, marshmallow, httpx-sse, dnspython, typing-inspect, email-validator, pydantic-settings, langgraph-sdk, groq, dataclasses-json, langgraph-checkpoint, langchain_groq, langgraph-prebuilt, langgraph, langchain_community\n",
            "Successfully installed dataclasses-json-0.6.7 dnspython-2.7.0 email-validator-2.2.0 groq-0.24.0 httpx-sse-0.4.0 langchain_community-0.3.24 langchain_groq-0.3.2 langgraph-0.4.3 langgraph-checkpoint-2.0.25 langgraph-prebuilt-0.1.8 langgraph-sdk-0.1.69 marshmallow-3.26.1 mypy-extensions-1.1.0 mysql-connector-python-9.3.0 ormsgpack-1.9.1 pydantic-settings-2.9.1 python-dotenv-1.1.0 typing-inspect-0.9.0\n"
          ]
        }
      ],
      "source": [
        "  !pip install langgraph langchain_groq langchain langchain_core langchain_community flask pydantic[email] mysql-connector-python"
      ]
    },
    {
      "cell_type": "code",
      "source": [
        "!git clone https://github.com/zeusunderthehood/mkrad_bot.git"
      ],
      "metadata": {
        "colab": {
          "base_uri": "https://localhost:8080/"
        },
        "id": "BCTSP6nG4ICN",
        "outputId": "2c1fa2e4-c054-432f-f903-afa1f009e984"
      },
      "execution_count": 2,
      "outputs": [
        {
          "output_type": "stream",
          "name": "stdout",
          "text": [
            "Cloning into 'mkrad_bot'...\n",
            "remote: Enumerating objects: 23, done.\u001b[K\n",
            "remote: Counting objects: 100% (23/23), done.\u001b[K\n",
            "remote: Compressing objects: 100% (22/22), done.\u001b[K\n",
            "remote: Total 23 (delta 6), reused 0 (delta 0), pack-reused 0 (from 0)\u001b[K\n",
            "Receiving objects: 100% (23/23), 60.96 KiB | 1.35 MiB/s, done.\n",
            "Resolving deltas: 100% (6/6), done.\n"
          ]
        }
      ]
    },
    {
      "cell_type": "code",
      "source": [
        "import os\n",
        "from langchain.agents import tool\n",
        "import re\n",
        "from mkrad_bot.database import UserFetchFormat,connect_to_localDB,connect_to_rds\n",
        "from mkrad_bot.tools import check_user\n",
        "from typing import TypedDict, List, Optional, Dict, Any\n",
        "from langchain_core.messages import AIMessage, ToolMessage, BaseMessage, SystemMessage, HumanMessage\n",
        "from langgraph.graph import StateGraph, END\n",
        "from google.colab import userdata\n",
        "from langchain_groq import ChatGroq\n",
        "from dotenv import load_dotenv\n"
      ],
      "metadata": {
        "id": "Qeq35isP4LSR"
      },
      "execution_count": 3,
      "outputs": []
    },
    {
      "cell_type": "code",
      "source": [
        "from mkrad_bot.tools import check_user\n",
        "check_user(\"2818148527\")"
      ],
      "metadata": {
        "id": "4r7gicUs4LNC",
        "colab": {
          "base_uri": "https://localhost:8080/"
        },
        "outputId": "cbbde1f7-aa82-4673-e6cb-1d499b9d7278"
      },
      "execution_count": 5,
      "outputs": [
        {
          "output_type": "execute_result",
          "data": {
            "text/plain": [
              "{'name': 'Kathy Dumont',\n",
              " 'phone_number': '2818148527',\n",
              " 'address': '1014 Rosita Street, Arlington, TX, USA ',\n",
              " 'pincode': '76002',\n",
              " 'email_id': 'krdumont4@gmail.com',\n",
              " 'city': 'Arlington'}"
            ]
          },
          "metadata": {},
          "execution_count": 5
        }
      ]
    },
    {
      "cell_type": "code",
      "source": [
        "class GraphState(TypedDict):\n",
        "    input: str\n",
        "    messages: List[BaseMessage]\n",
        "    user_data: Optional[Dict[str, Any]]\n",
        "    user_exists: Optional[bool]\n",
        "    current_field: Optional[str]\n",
        "    confirmation_asked: Optional[bool]\n",
        "    phone_processed: Optional[bool]\n",
        "\n",
        "\n",
        "# Define fields to collect\n",
        "FIELDS_TO_COLLECT = [\n",
        "    (\"phone_number\", \"Please enter your phone number.\"),\n",
        "    (\"email_id\", \"What is your email address?\"),\n",
        "    (\"name\", \"What is your full name?\"),\n",
        "    (\"address\", \"Please provide your complete address.\"),\n",
        "    (\"city\", \"Which city do you live in?\"),\n",
        "    (\"state\", \"Which state do you live in?\"),\n",
        "    (\"pincode\", \"What is your area pincode?\")\n",
        "]\n",
        "\n",
        "\n",
        "load_dotenv()\n",
        "from google.colab import userdata\n",
        "os.environ['GROQ_API_KEY'] = userdata.get(\"GROQ_API_KEY\")\n",
        "model = \"Llama3-8b-8192\"\n",
        "llm = ChatGroq(model=model)\n",
        "llmt = llm.bind_tools(tools=[check_user])\n",
        "\n",
        "dialogs=(\"Hi, Welcome to MKRAD Landscaping services. Would you like to book a service with us?\"\n",
        "                \"\\n\\n\"\n",
        "                \"User: Yes \\n\\n\"\n",
        "                \"Bot: Sure Can you please help me with your number? \\n\\n\"\n",
        "                \"User: 1234567890 \\n\\n\"\n",
        "                \"Bot:Looks like you are not registered with us. Please provide your full name. \\n\\n\"\n",
        "                \"User: Pratik Kumar \\n\\n\"\n",
        "                \"Bot: Can you please provide your phone number? \\n\\n\"\n",
        "                \"User: 1234567890\\n\\n\"\n",
        "                \"Bot:Can you please provide your email id? \\n\\n\"\n",
        "                \"User:zee.pratik@gmail.com \\n\\n\"\n",
        "                \"Bot: Can you please provide your address? \\n\\n\"\n",
        "                \"User: 123, ABC Street \\n\\n\"\n",
        "                \"Bot: Can you please provide your city, State? \\n\\n\"\n",
        "                \"User: New York, NY \\n\\n\"\n",
        "                \"Bot: Can you please provide your pincode? \\n\\n\"\n",
        "                \"User: 123456 \\n\\n\"\n",
        "                \"Bot:What service would you like to book? \\n\\n\"\n",
        "                \"User: I would like to book a lawn mowing service. \\n\\n\"\n",
        "                \"Bot: Sure, Can you please confirm the details \\n* Name : Pratik Kumar \\n* Phone Number : 9205986849 \\n* Email ID : zee.pratik@gmail.com \\n* Address : 123, ABC Street \\n* City : New York \\n* State : NY \\n* Pincode : 123456 \\n\\n\"\n",
        "                \"User: Looks good to me. \\n\\n\"\n",
        "                \"Bot: Great! I will now send you a confirmation email for further communication. Thank you for choosing MKRAD's service \\n\\n\")\n",
        "\n",
        "system_prompt = (\n",
        "    \"You are an assistant for MKRAD Landscaping Services helping users book appointments.\\n\\n\"\n",
        "\n",
        "    \"**Booking Flow Instructions:**\\n\"\n",
        "    \"1. Start by grerting and asking the user's phone number.\\n\"\n",
        "    \"2. Use `check_user(phone_number)` to check if the user exists.\\n\"\n",
        "    \"3. If user exists:\\n\"\n",
        "    \"   - Confirm fetched data: {name}, {email}, {address}, {city}, {state}, {pincode}\\n\"\n",
        "    \"   - Proceed to ask for the service to be booked.\\n\"\n",
        "    \"4. If user not found:\\n\"\n",
        "    \"   - Collect the following details one at a time:\\n\"\n",
        "    \"     a. Full Name\\n\"\n",
        "    \"     b. Phone Number\\n\"\n",
        "    \"     c. Email ID\\n\"\n",
        "    \"     d. Address\\n\"\n",
        "    \"     e. City\\n\"\n",
        "    \"     f. State\\n\"\n",
        "    \"     g. Pincode\\n\"\n",
        "    \"   - Confirm the full set of details before proceeding.\\n\\n\"\n",
        "\n",
        "    \"**Service Booking:**\\n\"\n",
        "    \"Once details are confirmed, ask: 'What service would you like to book?'\\n\"\n",
        "    \"Store the booking request and send two emails:\\n\"\n",
        "    \"- One to the user using `send_email_to_user()`\\n\"\n",
        "    \"- One to admin using `send_email_to_admin()`\\n\\n\"\n",
        "\n",
        "    \"**Important Notes:**\\n\"\n",
        "    \"- Do not ask for data again if already fetched.\\n\"\n",
        "    \"- Validate phone number format.\\n\"\n",
        "    \"- Follow strict turn-based data collection.\\n\"\n",
        "    \"- Be polite, clear, and efficient.\\n\\n\"\n",
        "\n",
        "    \"Use this example for tone and flow:\\n\\n\"\n",
        "    \"Please answers question realted to booking dont answer unrelated question? Simply say I don't have any information on that\"\n",
        "    f\"{dialogs}\"\n",
        ")"
      ],
      "metadata": {
        "id": "42Dgd7Qo4LHr"
      },
      "execution_count": 6,
      "outputs": []
    },
    {
      "cell_type": "code",
      "source": [
        "def run_llm(state: GraphState) -> GraphState:\n",
        "    if not any(isinstance(m, SystemMessage) for m in state['messages']):\n",
        "        state['messages'].insert(0, SystemMessage(content=system_prompt))\n",
        "\n",
        "    last_msg = state['messages'][-1] if state['messages'] else None\n",
        "    if isinstance(last_msg, HumanMessage):\n",
        "        phone_match = re.search(r'\\b\\d{10}\\b', last_msg.content)\n",
        "        if phone_match and (not state.get('phone_processed', False) or state.get('current_field') == 'phone_number'):\n",
        "            phone = phone_match.group(0)\n",
        "            if state['user_data'] is None:\n",
        "                state['user_data'] = {}\n",
        "                state['messages'].append(AIMessage(\n",
        "                    content=\"\",  # Provide empty content here\n",
        "                    tool_calls=[{\n",
        "                        'name': 'check_user',\n",
        "                        'args': {'phone': phone},\n",
        "                        'id': f'call_{phone}',\n",
        "                        'type': 'tool_call'\n",
        "                    }]\n",
        "                ))\n",
        "            state['user_data']['phone_number'] = phone\n",
        "            state['phone_processed'] = True\n",
        "                #state['user_exists'] = None\n",
        "        else:\n",
        "            # Ensure that the messages are converted to LangChain messages before passing to llm.invoke\n",
        "            messages = [\n",
        "                message.to_message() if isinstance(message, dict) and 'content' in message else message\n",
        "                for message in state['messages']\n",
        "            ]\n",
        "            ai_msg = llm.invoke(messages)  # Invoke with converted messages\n",
        "            state['messages'].append(ai_msg)\n",
        "    else:\n",
        "        # Similar to the previous block, convert messages before invoking\n",
        "        messages = [\n",
        "            message.to_message() if isinstance(message, dict) and 'content' in message else message\n",
        "            for message in state['messages']\n",
        "        ]\n",
        "        ai_msg = llm.invoke(messages)  # Invoke with converted messages\n",
        "        state['messages'].append(ai_msg)\n",
        "\n",
        "    return state"
      ],
      "metadata": {
        "id": "VqnR-Eof4LFH"
      },
      "execution_count": 7,
      "outputs": []
    },
    {
      "cell_type": "code",
      "source": [
        "def call_tools(state: GraphState) -> GraphState:\n",
        "    #print(\"DEBUG: Entering call_tools node\")\n",
        "    tool_messages = []\n",
        "    user_exists = state.get('user_exists')\n",
        "    user_data = state.get('user_data')\n",
        "\n",
        "    last_message = state['messages'][-1]\n",
        "    if isinstance(last_message, AIMessage) and last_message.tool_calls:\n",
        "        for call in last_message.tool_calls:\n",
        "            if call['name'] == 'check_user':\n",
        "                result = check_user.invoke(call['args']['phone'])\n",
        "                #print(f\"DEBUG: check_user result: {result}\")\n",
        "                user_exists = isinstance(result, dict) and result != \"No User\" and not str(result).startswith(\"Error\")\n",
        "                user_data = result if user_exists else None\n",
        "                tool_messages.append(ToolMessage(tool_call_id=call['id'], content=str(result)))\n",
        "            else:\n",
        "                tool_messages.append(ToolMessage(tool_call_id=call['id'], content=f\"Error: Tool {call['name']} not found.\"))\n",
        "\n",
        "    state['messages'].extend(tool_messages)\n",
        "    state['user_exists'] = user_exists\n",
        "    state['user_data'] = user_data\n",
        "    state['confirmation_asked'] = False\n",
        "    #print(f\"DEBUG: call_tools state update - user_exists: {user_exists}, user_data: {user_data}\")\n",
        "    return state"
      ],
      "metadata": {
        "id": "x8N4QHpw4LCi"
      },
      "execution_count": 8,
      "outputs": []
    },
    {
      "cell_type": "code",
      "source": [
        "\n",
        "def collect_data(state: GraphState) -> GraphState:\n",
        "    fields = ['phone_number', 'email_id', 'full_name', 'address', 'city', 'pincode']\n",
        "    if state['user_exists'] == False:\n",
        "        if state.get('current_field') is None:\n",
        "            state['current_field'] = fields[0]  # Initialize with the first field\n",
        "\n",
        "        current_field_index = fields.index(state['current_field'])\n",
        "        if current_field_index < len(fields) -1:\n",
        "          state['current_field'] = fields[current_field_index+1]\n",
        "        else:\n",
        "           state['current_field'] = None # all fields collected\n",
        "\n",
        "    return state"
      ],
      "metadata": {
        "id": "lM5OhRjw5kAS"
      },
      "execution_count": 9,
      "outputs": []
    },
    {
      "cell_type": "code",
      "source": [
        "def collect_data(state: GraphState) -> GraphState:\n",
        "    messages = state['messages']\n",
        "    user_data = state.get('user_data', {})\n",
        "    phone_number = state.get('phone_number')\n",
        "\n",
        "    print(\"Collect Data Node Triggered\")\n",
        "    print(\"User data before collecting:\", user_data)\n",
        "\n",
        "    # Call your extraction function\n",
        "    updated_user_data = extraction_chain.invoke({\n",
        "        \"input\": messages[-1].content,\n",
        "        \"stored_data\": user_data\n",
        "    })\n",
        "\n",
        "    print(\"Updated user data from extraction_chain:\", updated_user_data)\n",
        "\n",
        "    if updated_user_data:\n",
        "        # Merge extracted data into existing user_data\n",
        "        user_data.update(updated_user_data)\n",
        "        state['user_data'] = user_data\n",
        "    else:\n",
        "        print(\"No new user data extracted.\")\n",
        "\n",
        "    return state\n"
      ],
      "metadata": {
        "id": "0BDfQYpyJYYE"
      },
      "execution_count": 22,
      "outputs": []
    },
    {
      "cell_type": "code",
      "source": [
        "def confirm_information(state: GraphState) -> GraphState:\n",
        "    \"\"\"\n",
        "    Node to confirm the collected user information.\n",
        "    \"\"\"\n",
        "    last_message = state['messages'][-1] if state['messages'] else None\n",
        "\n",
        "    # If we haven't asked for confirmation yet\n",
        "    if state.get('user_data') and not state.get('confirmation_asked', False):\n",
        "        user_info = state['user_data']\n",
        "        confirmation_message = (\n",
        "            \"Please confirm the following information:\\n\"\n",
        "            f\"* Name: {user_info.get('name', 'N/A')}\\n\"\n",
        "            f\"* Phone Number: {user_info.get('phone_number', 'N/A')}\\n\"\n",
        "            f\"* Email ID: {user_info.get('email_id', 'N/A')}\\n\"\n",
        "            f\"* Address: {user_info.get('address', 'N/A')}\\n\"\n",
        "            f\"* City: {user_info.get('city', 'N/A')}\\n\"\n",
        "            f\"* State: {user_info.get('state', 'N/A')}\\n\"\n",
        "            f\"* Pincode: {user_info.get('pincode', 'N/A')}\\n\\n\"\n",
        "            \"Type 'yes' to confirm, or provide corrections.\"\n",
        "        )\n",
        "        state['messages'].append(AIMessage(content=confirmation_message))\n",
        "        state['confirmation_asked'] = True\n",
        "        return state\n",
        "\n",
        "    # If confirmation was already asked\n",
        "    if state.get('confirmation_asked', False) and isinstance(last_message, HumanMessage):\n",
        "        content = last_message.content.strip().lower()\n",
        "        if content == \"yes\":\n",
        "            state['messages'].append(AIMessage(content=\"Great! What service would you like to book?\"))\n",
        "            # Reset confirmation flag if needed\n",
        "            state['confirmation_asked'] = False\n",
        "            return state\n",
        "        else:\n",
        "            # Try extracting corrected fields from the message (rudimentary logic)\n",
        "            corrections = last_message.content.strip()\n",
        "            # You can use more robust NLP logic to parse field-value pairs\n",
        "            # For now, basic regex can help update a single field like pincode\n",
        "            pincode_match = re.search(r'\\b\\d{6}\\b', corrections)\n",
        "            if pincode_match:\n",
        "                state['user_data']['pincode'] = pincode_match.group(0)\n",
        "\n",
        "            # Re-ask with updated data\n",
        "            user_info = state['user_data']\n",
        "            confirmation_message = (\n",
        "                \"Thanks for the update. Please confirm the corrected information:\\n\"\n",
        "                f\"* Name: {user_info.get('name', 'N/A')}\\n\"\n",
        "                f\"* Phone Number: {user_info.get('phone_number', 'N/A')}\\n\"\n",
        "                f\"* Email ID: {user_info.get('email_id', 'N/A')}\\n\"\n",
        "                f\"* Address: {user_info.get('address', 'N/A')}\\n\"\n",
        "                f\"* City: {user_info.get('city', 'N/A')}\\n\"\n",
        "                f\"* State: {user_info.get('state', 'N/A')}\\n\"\n",
        "                f\"* Pincode: {user_info.get('pincode', 'N/A')}\\n\\n\"\n",
        "                \"Type 'yes' to confirm, or provide further corrections.\"\n",
        "            )\n",
        "            state['messages'].append(AIMessage(content=confirmation_message))\n",
        "            return state\n",
        "\n",
        "    return state\n"
      ],
      "metadata": {
        "id": "oCBSxu5V5piy"
      },
      "execution_count": 23,
      "outputs": []
    },
    {
      "cell_type": "code",
      "source": [
        "def send_emails(state:GraphState):\n",
        "  if state['user_data'] is not None:\n",
        "    user_email = state['user_data']['email_id']\n",
        "    admin_mail=\"mike@mkrad.com\"\n",
        "    system_prompt= f\"\"\"Write a mail with the following details to User : {user_email} and Admin : {admin_mail} notifying\n",
        "    the user that the appointment has been succsesfully booked with their details: {state['user_data']} and send a mail\n",
        "    to admin giving information that the user has booked an appointment with the details given by the user.\"\"\"\n",
        "    user_email = state['user_data']['email_id']\n",
        "    admin_mail=\"mike@mkrad.com\"\n",
        "    human_message=[msg for msg in state['messages'] if isinstance(msg, HumanMessage)]\n",
        "    ai_message=[msg for msg in state['messages'] if isinstance(msg,AIMessage)]\n",
        "    sys_message=[msg for msg in state['messages'] if isinstance(msg,SystemMessage)].append(SystemMessage(content=system_prompt))\n",
        "    messages=sys_message+human_message+ai_message\n",
        "    llmt.invoke(messages)\n",
        "  return state\n",
        "\n"
      ],
      "metadata": {
        "id": "FZAZ8EfS5rhh"
      },
      "execution_count": 24,
      "outputs": []
    },
    {
      "cell_type": "code",
      "source": [
        "workflow=StateGraph(GraphState)\n",
        "\n",
        "workflow.add_node(\"run_llm\",run_llm)\n",
        "workflow.add_node(\"call_tools\",call_tools)\n",
        "workflow.add_node(\"collect_data\",collect_data)\n",
        "workflow.add_node(\"send_emails\",send_emails)\n",
        "workflow.add_node(\"confirm_information\", confirm_information)\n",
        "workflow.add_edge(\"run_llm\",\"call_tools\")\n",
        "workflow.add_conditional_edges(\n",
        "    \"call_tools\",\n",
        "    lambda state: \"existing\" if state[\"user_exists\"]==True else \"new_user\",\n",
        "    {\"existing\": \"confirm_information\",\n",
        "     \"new_user\": \"collect_data\"})\n",
        "workflow.add_edge(\"collect_data\",\"confirm_information\")\n",
        "workflow.add_edge(\"confirm_information\",\"send_emails\")\n",
        "workflow.add_edge(\"send_emails\",END)\n",
        "workflow.set_entry_point(\"run_llm\")\n",
        "bot=workflow.compile()\n",
        "bot"
      ],
      "metadata": {
        "colab": {
          "base_uri": "https://localhost:8080/",
          "height": 671
        },
        "id": "zx6thm0C5wXM",
        "outputId": "8342acda-24e3-4fef-a269-f9db2e9b6430"
      },
      "execution_count": 25,
      "outputs": [
        {
          "output_type": "execute_result",
          "data": {
            "text/plain": [
              "<langgraph.graph.state.CompiledStateGraph object at 0x7af0a09a4c10>"
            ],
            "image/png": "[encoded data removed]"
          },
          "metadata": {},
          "execution_count": 25
        }
      ]
    },
    {
      "cell_type": "code",
      "source": [
        "def conversation(state: Dict[str, Any]) -> Dict[str, Any]:\n",
        "    while True:\n",
        "        user_message = input(\"User: \")\n",
        "        if user_message.lower() in [\"exit\",'q','quit']:\n",
        "            break  # Exit the loop if the user types \"exit\"\n",
        "\n",
        "        state[\"messages\"].append(HumanMessage(content=user_message))\n",
        "        state = bot.invoke(state)  # Process the state with run_llm\n",
        "        print(\"Bot:\", state['messages'][-1].content)  # Print the bot's response\n"
      ],
      "metadata": {
        "id": "euw7wwzQ5zFK"
      },
      "execution_count": 26,
      "outputs": []
    },
    {
      "cell_type": "code",
      "source": [
        "initial_state={'messages':[HumanMessage(content=\"Hii, I want to book an appointment!\")]}\n",
        "conversation(initial_state)"
      ],
      "metadata": {
        "colab": {
          "base_uri": "https://localhost:8080/",
          "height": 824
        },
        "id": "0R5AMM1u50Q7",
        "outputId": "3e07a770-1ef7-4a35-be3b-e7c7bae057dc"
      },
      "execution_count": 27,
      "outputs": [
        {
          "output_type": "stream",
          "name": "stdout",
          "text": [
            "User: hi\n",
            "Collect Data Node Triggered\n",
            "User data before collecting: None\n"
          ]
        },
        {
          "output_type": "error",
          "ename": "NameError",
          "evalue": "name 'extraction_chain' is not defined",
          "traceback": [
            "\u001b[0;31m---------------------------------------------------------------------------\u001b[0m",
            "\u001b[0;31mNameError\u001b[0m                                 Traceback (most recent call last)",
            "\u001b[0;32m<ipython-input-27-be5c0c0bd15a>\u001b[0m in \u001b[0;36m<cell line: 0>\u001b[0;34m()\u001b[0m\n\u001b[1;32m      1\u001b[0m \u001b[0minitial_state\u001b[0m\u001b[0;34m=\u001b[0m\u001b[0;34m{\u001b[0m\u001b[0;34m'messages'\u001b[0m\u001b[0;34m:\u001b[0m\u001b[0;34m[\u001b[0m\u001b[0mHumanMessage\u001b[0m\u001b[0;34m(\u001b[0m\u001b[0mcontent\u001b[0m\u001b[0;34m=\u001b[0m\u001b[0;34m\"Hii, I want to book an appointment!\"\u001b[0m\u001b[0;34m)\u001b[0m\u001b[0;34m]\u001b[0m\u001b[0;34m}\u001b[0m\u001b[0;34m\u001b[0m\u001b[0;34m\u001b[0m\u001b[0m\n\u001b[0;32m----> 2\u001b[0;31m \u001b[0mconversation\u001b[0m\u001b[0;34m(\u001b[0m\u001b[0minitial_state\u001b[0m\u001b[0;34m)\u001b[0m\u001b[0;34m\u001b[0m\u001b[0;34m\u001b[0m\u001b[0m\n\u001b[0m",
            "\u001b[0;32m<ipython-input-26-b3a89b33007d>\u001b[0m in \u001b[0;36mconversation\u001b[0;34m(state)\u001b[0m\n\u001b[1;32m      6\u001b[0m \u001b[0;34m\u001b[0m\u001b[0m\n\u001b[1;32m      7\u001b[0m         \u001b[0mstate\u001b[0m\u001b[0;34m[\u001b[0m\u001b[0;34m\"messages\"\u001b[0m\u001b[0;34m]\u001b[0m\u001b[0;34m.\u001b[0m\u001b[0mappend\u001b[0m\u001b[0;34m(\u001b[0m\u001b[0mHumanMessage\u001b[0m\u001b[0;34m(\u001b[0m\u001b[0mcontent\u001b[0m\u001b[0;34m=\u001b[0m\u001b[0muser_message\u001b[0m\u001b[0;34m)\u001b[0m\u001b[0;34m)\u001b[0m\u001b[0;34m\u001b[0m\u001b[0;34m\u001b[0m\u001b[0m\n\u001b[0;32m----> 8\u001b[0;31m         \u001b[0mstate\u001b[0m \u001b[0;34m=\u001b[0m \u001b[0mbot\u001b[0m\u001b[0;34m.\u001b[0m\u001b[0minvoke\u001b[0m\u001b[0;34m(\u001b[0m\u001b[0mstate\u001b[0m\u001b[0;34m)\u001b[0m  \u001b[0;31m# Process the state with run_llm\u001b[0m\u001b[0;34m\u001b[0m\u001b[0;34m\u001b[0m\u001b[0m\n\u001b[0m\u001b[1;32m      9\u001b[0m         \u001b[0mprint\u001b[0m\u001b[0;34m(\u001b[0m\u001b[0;34m\"Bot:\"\u001b[0m\u001b[0;34m,\u001b[0m \u001b[0mstate\u001b[0m\u001b[0;34m[\u001b[0m\u001b[0;34m'messages'\u001b[0m\u001b[0;34m]\u001b[0m\u001b[0;34m[\u001b[0m\u001b[0;34m-\u001b[0m\u001b[0;36m1\u001b[0m\u001b[0;34m]\u001b[0m\u001b[0;34m.\u001b[0m\u001b[0mcontent\u001b[0m\u001b[0;34m)\u001b[0m  \u001b[0;31m# Print the bot's response\u001b[0m\u001b[0;34m\u001b[0m\u001b[0;34m\u001b[0m\u001b[0m\n",
            "\u001b[0;32m/usr/local/lib/python3.11/dist-packages/langgraph/pregel/__init__.py\u001b[0m in \u001b[0;36minvoke\u001b[0;34m(self, input, config, stream_mode, output_keys, interrupt_before, interrupt_after, checkpoint_during, debug, **kwargs)\u001b[0m\n\u001b[1;32m   2821\u001b[0m         \u001b[0minterrupts\u001b[0m\u001b[0;34m:\u001b[0m \u001b[0mlist\u001b[0m\u001b[0;34m[\u001b[0m\u001b[0mInterrupt\u001b[0m\u001b[0;34m]\u001b[0m \u001b[0;34m=\u001b[0m \u001b[0;34m[\u001b[0m\u001b[0;34m]\u001b[0m\u001b[0;34m\u001b[0m\u001b[0;34m\u001b[0m\u001b[0m\n\u001b[1;32m   2822\u001b[0m \u001b[0;34m\u001b[0m\u001b[0m\n\u001b[0;32m-> 2823\u001b[0;31m         for chunk in self.stream(\n\u001b[0m\u001b[1;32m   2824\u001b[0m             \u001b[0minput\u001b[0m\u001b[0;34m,\u001b[0m\u001b[0;34m\u001b[0m\u001b[0;34m\u001b[0m\u001b[0m\n\u001b[1;32m   2825\u001b[0m             \u001b[0mconfig\u001b[0m\u001b[0;34m,\u001b[0m\u001b[0;34m\u001b[0m\u001b[0;34m\u001b[0m\u001b[0m\n",
            "\u001b[0;32m/usr/local/lib/python3.11/dist-packages/langgraph/pregel/__init__.py\u001b[0m in \u001b[0;36mstream\u001b[0;34m(self, input, config, stream_mode, output_keys, interrupt_before, interrupt_after, checkpoint_during, debug, subgraphs)\u001b[0m\n\u001b[1;32m   2459\u001b[0m                 \u001b[0;31m# with channel updates applied only at the transition between steps.\u001b[0m\u001b[0;34m\u001b[0m\u001b[0;34m\u001b[0m\u001b[0m\n\u001b[1;32m   2460\u001b[0m                 \u001b[0;32mwhile\u001b[0m \u001b[0mloop\u001b[0m\u001b[0;34m.\u001b[0m\u001b[0mtick\u001b[0m\u001b[0;34m(\u001b[0m\u001b[0minput_keys\u001b[0m\u001b[0;34m=\u001b[0m\u001b[0mself\u001b[0m\u001b[0;34m.\u001b[0m\u001b[0minput_channels\u001b[0m\u001b[0;34m)\u001b[0m\u001b[0;34m:\u001b[0m\u001b[0;34m\u001b[0m\u001b[0;34m\u001b[0m\u001b[0m\n\u001b[0;32m-> 2461\u001b[0;31m                     for _ in runner.tick(\n\u001b[0m\u001b[1;32m   2462\u001b[0m                         \u001b[0mloop\u001b[0m\u001b[0;34m.\u001b[0m\u001b[0mtasks\u001b[0m\u001b[0;34m.\u001b[0m\u001b[0mvalues\u001b[0m\u001b[0;34m(\u001b[0m\u001b[0;34m)\u001b[0m\u001b[0;34m,\u001b[0m\u001b[0;34m\u001b[0m\u001b[0;34m\u001b[0m\u001b[0m\n\u001b[1;32m   2463\u001b[0m                         \u001b[0mtimeout\u001b[0m\u001b[0;34m=\u001b[0m\u001b[0mself\u001b[0m\u001b[0;34m.\u001b[0m\u001b[0mstep_timeout\u001b[0m\u001b[0;34m,\u001b[0m\u001b[0;34m\u001b[0m\u001b[0;34m\u001b[0m\u001b[0m\n",
            "\u001b[0;32m<ipython-input-22-0afbc167297e>\u001b[0m in \u001b[0;36mcollect_data\u001b[0;34m(state)\u001b[0m\n\u001b[1;32m      8\u001b[0m \u001b[0;34m\u001b[0m\u001b[0m\n\u001b[1;32m      9\u001b[0m     \u001b[0;31m# Call your extraction function\u001b[0m\u001b[0;34m\u001b[0m\u001b[0;34m\u001b[0m\u001b[0m\n\u001b[0;32m---> 10\u001b[0;31m     updated_user_data = extraction_chain.invoke({\n\u001b[0m\u001b[1;32m     11\u001b[0m         \u001b[0;34m\"input\"\u001b[0m\u001b[0;34m:\u001b[0m \u001b[0mmessages\u001b[0m\u001b[0;34m[\u001b[0m\u001b[0;34m-\u001b[0m\u001b[0;36m1\u001b[0m\u001b[0;34m]\u001b[0m\u001b[0;34m.\u001b[0m\u001b[0mcontent\u001b[0m\u001b[0;34m,\u001b[0m\u001b[0;34m\u001b[0m\u001b[0;34m\u001b[0m\u001b[0m\n\u001b[1;32m     12\u001b[0m         \u001b[0;34m\"stored_data\"\u001b[0m\u001b[0;34m:\u001b[0m \u001b[0muser_data\u001b[0m\u001b[0;34m\u001b[0m\u001b[0;34m\u001b[0m\u001b[0m\n",
            "\u001b[0;31mNameError\u001b[0m: name 'extraction_chain' is not defined"
          ]
        }
      ]
    },
    {
      "cell_type": "code",
      "source": [
        "initial_state={'messages':[HumanMessage(content=\"Hii, I want to book an appointment!\")]}\n",
        "conversation(initial_state)"
      ],
      "metadata": {
        "id": "CFADlGXv7JXS",
        "colab": {
          "base_uri": "https://localhost:8080/"
        },
        "outputId": "d3f1788e-d392-4e18-9ff8-56723eaafa68"
      },
      "execution_count": 19,
      "outputs": [
        {
          "name": "stdout",
          "output_type": "stream",
          "text": [
            "User: exit\n"
          ]
        }
      ]
    },
    {
      "cell_type": "code",
      "source": [],
      "metadata": {
        "id": "kdvvuPtR7etM"
      },
      "execution_count": 19,
      "outputs": []
    }
  ]
}